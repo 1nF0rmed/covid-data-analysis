{
 "cells": [
  {
   "cell_type": "code",
   "execution_count": 136,
   "metadata": {},
   "outputs": [],
   "source": [
    "import requests\n",
    "import pandas as pd\n",
    "\n",
    "df = pd.read_csv(\"data-till-8th.csv\")"
   ]
  },
  {
   "cell_type": "code",
   "execution_count": 8,
   "metadata": {},
   "outputs": [],
   "source": [
    "state_names = ['Kerala',\n",
    " 'Haryana',\n",
    " 'Maharashtra',\n",
    " 'Uttar Pradesh',\n",
    " 'Delhi',\n",
    " 'Karnataka',\n",
    " 'Jammu and Kashmir',\n",
    " 'Rajasthan',\n",
    " 'Andhra Pradesh',\n",
    " 'Punjab',\n",
    " 'Tamil Nadu',\n",
    " 'Telangana',\n",
    " 'Assam',\n",
    " 'Bihar',\n",
    " 'Gujarat',\n",
    " 'Meghalaya',\n",
    " 'Madhya Pradesh',\n",
    " 'Odisha',\n",
    " 'Puducherry',\n",
    " 'Tripura',\n",
    " 'West Bengal',\n",
    " 'Goa',\n",
    " 'Arunachal Pradesh',\n",
    " 'Chhattisgarh',\n",
    " 'Himachal Pradesh',\n",
    " 'Jharkhand',\n",
    " 'Manipur',\n",
    " 'Mizoram',\n",
    " 'Nagaland',\n",
    " 'Sikkim',\n",
    " 'Uttarakhand',\n",
    " 'Chandigarh',\n",
    " 'Dadra and Nagar Haveli',\n",
    " 'Daman and Diu',\n",
    " 'Lakshadweep']"
   ]
  },
  {
   "cell_type": "code",
   "execution_count": 141,
   "metadata": {},
   "outputs": [
    {
     "data": {
      "text/plain": [
       "array(['Unnamed: 0', 'date', 'Kerala', 'Haryana', 'Maharashtra',\n",
       "       'Uttar Pradesh', 'Delhi', 'Karnataka', 'Jammu and Kashmir',\n",
       "       'Rajasthan', 'Andhra Pradesh', 'Punjab', 'Tamil Nadu', 'Telangana',\n",
       "       'Assam', 'Bihar', 'Gujarat', 'Meghalaya', 'Madhya Pradesh',\n",
       "       'Odisha', 'Puducherry', 'Tripura', 'West Bengal', 'Goa',\n",
       "       'Arunachal Pradesh', 'Chhattisgarh', 'Himachal Pradesh',\n",
       "       'Jharkhand', 'Manipur', 'Mizoram', 'Nagaland', 'Sikkim',\n",
       "       'Uttarakhand', 'Chandigarh', 'Dadra and Nagar Haveli',\n",
       "       'Daman and Diu', 'Lakshadweep', 'Andaman and Nicobar Islands',\n",
       "       'Ladakh'], dtype=object)"
      ]
     },
     "execution_count": 141,
     "metadata": {},
     "output_type": "execute_result"
    }
   ],
   "source": [
    "df.columns.values"
   ]
  },
  {
   "cell_type": "code",
   "execution_count": 139,
   "metadata": {},
   "outputs": [
    {
     "name": "stdout",
     "output_type": "stream",
     "text": [
      "2020-03-14\n",
      "[{'confirmed': 6, 'recovered': 0, 'deaths': 1, 'active': 5}]\n"
     ]
    }
   ],
   "source": [
    "print(df.loc[0]['date'])\n",
    "print(df.loc[0]['Karnataka'])"
   ]
  }
 ],
 "metadata": {
  "kernelspec": {
   "display_name": "Python 3",
   "language": "python",
   "name": "python3"
  },
  "language_info": {
   "codemirror_mode": {
    "name": "ipython",
    "version": 3
   },
   "file_extension": ".py",
   "mimetype": "text/x-python",
   "name": "python",
   "nbconvert_exporter": "python",
   "pygments_lexer": "ipython3",
   "version": "3.6.9"
  }
 },
 "nbformat": 4,
 "nbformat_minor": 4
}
